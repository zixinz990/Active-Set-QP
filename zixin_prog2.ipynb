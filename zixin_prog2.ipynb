{
 "cells": [
  {
   "cell_type": "code",
   "execution_count": 33,
   "metadata": {},
   "outputs": [],
   "source": [
    "import numpy as np"
   ]
  },
  {
   "cell_type": "code",
   "execution_count": 34,
   "metadata": {},
   "outputs": [],
   "source": [
    "'''\n",
    "Options for the active-set QP solver\n",
    "'''\n",
    "class solverOptions:\n",
    "    def __init__(self):\n",
    "        self.print_level = \"Verbose\"\n",
    "        self.term_tol = 1e-6\n",
    "        self.feas_tol = 1e-9\n",
    "        self.max_iter = 100"
   ]
  },
  {
   "cell_type": "code",
   "execution_count": 35,
   "metadata": {},
   "outputs": [],
   "source": [
    "'''\n",
    "Active-set QP solver\n",
    "'''\n",
    "class Solver:\n",
    "    def __init__(self, solver_options):\n",
    "        self.solver_options = solver_options\n",
    "    \n",
    "    def active_set_solve(self, G, c, A, b, x0, W0):\n",
    "        '''\n",
    "        This function solves a QP with inequality constraints using the active-set method\n",
    "        \n",
    "        A QP is defined as follows:\n",
    "        min  q(x) = 0.5*x'*G*x + c'*x\n",
    "        s.t. A*x >= b\n",
    "\n",
    "        Parameters:\n",
    "            G:  n x n matrix\n",
    "            c:  n-dim vector\n",
    "            A:  m x n matrix\n",
    "            b:  m-dim vector\n",
    "            x0: starting point\n",
    "            W0: initial working set, m-dim boolean vector, and a component is set to true if\n",
    "                the corresponding constraint is in the active set\n",
    "        \n",
    "        Returns:\n",
    "            x_sol:      solution, n-dim vector\n",
    "            lambda_sol: corresponding optimal Lagrange multipliers, m-dim vector\n",
    "            W_sol:      final working set, m-dim boolean vector\n",
    "            status:     exit status\n",
    "\n",
    "        Note:\n",
    "            x0 should be feasible, and W0 should be a subset of the active constraints at x0\n",
    "        '''\n",
    "        xk = np.copy(x0)\n",
    "        Wk = np.copy(W0)\n",
    "        num_iter = 0\n",
    "\n",
    "        if self.solver_options.print_level == \"Verbose\":\n",
    "            output_header = '%6s     %20s %9s    %9s' % \\\n",
    "                            ('iter', 'f', 'Wk', 'alpha')\n",
    "            print(output_header)\n",
    "\n",
    "        alpha = 0\n",
    "        while True:\n",
    "            fk = 0.5 * xk.T @ G @ xk + c.T @ xk\n",
    "\n",
    "            active_idx = np.where(Wk == True)[0] + 1\n",
    "            if self.solver_options.print_level == \"Verbose\":\n",
    "                output_line = '%6d     %20s %9s         %4s' % \\\n",
    "                            (num_iter, fk[0][0],  active_idx, alpha)\n",
    "                print(output_line)\n",
    "\n",
    "            # Initialize active constraints matrix\n",
    "            A_active = np.copy(A[Wk, :])\n",
    "            b_active = np.copy(b[Wk])\n",
    "            \n",
    "            # Solve the QP with the current working set\n",
    "            # gk = G @ xk + c\n",
    "            # p0 = np.zeros(np.shape(gk)) # starting point\n",
    "            # p_sol, lambda_sol, status = self.solve_eq_qp(G, gk, A_active, b_active, p0)\n",
    "            x_sol, lambda_sol, status = self.solve_eq_qp(G, c, A_active, b_active, xk)\n",
    "            pk = x_sol - xk\n",
    "            # If xk is a minimizer with Wk\n",
    "            if np.linalg.norm(pk, np.inf) < self.solver_options.term_tol:\n",
    "                # If the KKT conditions are satisfied, return\n",
    "                if np.all(lambda_sol >= -self.solver_options.term_tol):\n",
    "                    status = 0\n",
    "                    if self.solver_options.print_level == \"Verbose\":\n",
    "                        print('Optimal solution found')\n",
    "                    return xk, lambda_sol, Wk, status\n",
    "                # Otherwise, remove the constraints with the most negative lambda\n",
    "                else:\n",
    "                    idx = np.argmin(lambda_sol) # note that size(lambda_sol) <= size(Wk)\n",
    "                    is_true_idx = 0\n",
    "                    for i in range(len(Wk)):\n",
    "                        if Wk[i] == True:\n",
    "                            if is_true_idx == idx:\n",
    "                                Wk[i] = False\n",
    "                                break\n",
    "                            else:\n",
    "                                is_true_idx += 1\n",
    "\n",
    "            # If xk is not a minimizer with Wk\n",
    "            else:\n",
    "                # Find the step length\n",
    "                alpha = 1\n",
    "                for i in range(len(Wk)):\n",
    "                    if Wk[i] == False and np.dot(A[i, :], pk) < 0:\n",
    "                        tmp = (b[i] - np.dot(A[i, :], xk)) / np.dot(A[i, :], pk)\n",
    "                        alpha = min(alpha, tmp[0])\n",
    "                \n",
    "                # Update xk\n",
    "                xk = xk + alpha * pk\n",
    "\n",
    "                # Check if there are blocking constraints\n",
    "                for i in range(len(Wk)):\n",
    "                    if Wk[i] == False and np.dot(A[i, :], xk) - b[i] == 0:\n",
    "                        Wk[i] = True\n",
    "                        break\n",
    "            \n",
    "            # Check if the maximum number of iterations is reached\n",
    "            num_iter += 1\n",
    "            if num_iter >= self.solver_options.max_iter:\n",
    "                status = 1\n",
    "                if self.solver_options.print_level == \"Verbose\":\n",
    "                    print('Maximum number of iterations reached')\n",
    "                return xk, lambda_sol, Wk, status\n",
    "\n",
    "    def solve_eq_qp(self, G, c, A, b, x0):\n",
    "        '''\n",
    "        This function solves a QP with equality constraints using Schur-complement method\n",
    "        \n",
    "        A QP is defined as follows:\n",
    "        min  q(x) = 0.5*x'*G*x + c'*x\n",
    "        s.t. A*x = b\n",
    "\n",
    "        Parameters:\n",
    "            G:  n x n matrix\n",
    "            c:  n-dim vector\n",
    "            A:  m x n matrix\n",
    "            b:  m-dim vector\n",
    "            x0: starting point\n",
    "        \n",
    "        Returns:\n",
    "            x_sol:       solution, n-dim vector\n",
    "            lambda_sol:  corresponding optimal Lagrange multipliers, m-dim vector\n",
    "            status: exit status\n",
    "        '''\n",
    "        n = np.shape(x0)[0]\n",
    "        G_inv = np.linalg.inv(G)\n",
    "        tmp_inv = np.linalg.inv((A @ G_inv @ A.T))\n",
    "        C = G_inv - G_inv @ A.T @ tmp_inv @ A @ G_inv\n",
    "        E = G_inv @ A.T @ tmp_inv\n",
    "        F = -tmp_inv\n",
    "        g = c + G @ x0\n",
    "        h = A @ x0 - b\n",
    "        K_inv_top = np.hstack((C, E))\n",
    "        K_inv_bottom = np.hstack((E.T, F))\n",
    "        K_inv = np.vstack((K_inv_top, K_inv_bottom))\n",
    "        gh_vec = np.vstack((g, h))\n",
    "        sol_vec = K_inv @ gh_vec\n",
    "        p = -sol_vec[:n, :]\n",
    "        lambda_sol = sol_vec[n:, :]\n",
    "        x_sol = x0 + p\n",
    "        status = 0\n",
    "        return x_sol, lambda_sol, status"
   ]
  },
  {
   "cell_type": "markdown",
   "metadata": {},
   "source": [
    "## Example 16.4"
   ]
  },
  {
   "cell_type": "code",
   "execution_count": 36,
   "metadata": {},
   "outputs": [],
   "source": [
    "# min  q(x) = (x1-1)^2 + (x2-2.5)^2\n",
    "# s.t. x1 - 2*x2 >= -2\n",
    "#      -x1 - 2*x2 >= -6\n",
    "#      -x1 + 2*x2 >= -2\n",
    "#      x1 >= 0\n",
    "#      x2 >= 0\n",
    "solver_options = solverOptions()\n",
    "solver = Solver(solver_options)\n",
    "G = np.array([[2, 0], [0, 2]])\n",
    "c = np.array([[-2], [-5]])\n",
    "A = np.array([[1, -2], [-1, -2], [-1, 2], [1, 0], [0, 1]])\n",
    "b = np.array([[-2], [-6], [-2], [0], [0]])"
   ]
  },
  {
   "cell_type": "markdown",
   "metadata": {},
   "source": [
    "### x0 = (2, 0) and W0 = ∅"
   ]
  },
  {
   "cell_type": "code",
   "execution_count": 37,
   "metadata": {},
   "outputs": [
    {
     "name": "stdout",
     "output_type": "stream",
     "text": [
      "  iter                        f        Wk        alpha\n",
      "     0                      0.0        []            0\n",
      "     1       -6.444444444444445        []         0.6666666666666666\n",
      "     2       -6.444444444444444       [1]         2.2204460492503126e-16\n",
      "     3       -6.450000000000001       [1]            1\n",
      "Optimal solution found\n",
      "x_sol:  [1.4 1.7]\n",
      "lambda_sol:  [0.8]\n",
      "W_sol:  [1]\n"
     ]
    }
   ],
   "source": [
    "x0 = np.array([[2], [0]])\n",
    "W0 = np.array([False, False, False, False, False]) # empty\n",
    "x_sol, lambda_sol, W_sol, status = solver.active_set_solve(G, c, A, b, x0, W0)\n",
    "print(\"x_sol: \", x_sol.flatten())\n",
    "print(\"lambda_sol: \", lambda_sol.flatten())\n",
    "print(\"W_sol: \", np.where(W_sol == True)[0] + 1)"
   ]
  },
  {
   "cell_type": "markdown",
   "metadata": {},
   "source": [
    "### x0 = (2, 0) and W0 = {3, 5}"
   ]
  },
  {
   "cell_type": "code",
   "execution_count": 38,
   "metadata": {},
   "outputs": [
    {
     "name": "stdout",
     "output_type": "stream",
     "text": [
      "  iter                        f        Wk        alpha\n",
      "     0                      0.0     [3 5]            0\n",
      "     1                      0.0       [5]            0\n",
      "     2                     -1.0       [5]            1\n",
      "     3                     -1.0        []            1\n",
      "     4                    -6.25       [1]          0.6\n",
      "     5       -6.450000000000001       [1]            1\n",
      "Optimal solution found\n",
      "x_sol:  [1.4 1.7]\n",
      "lambda_sol:  [0.8]\n",
      "W_sol:  [1]\n"
     ]
    }
   ],
   "source": [
    "x0 = np.array([[2], [0]])\n",
    "W0 = np.array([False, False, True, False, True]) # empty\n",
    "x_sol, lambda_sol, W_sol, status = solver.active_set_solve(G, c, A, b, x0, W0)\n",
    "print(\"x_sol: \", x_sol.flatten())\n",
    "print(\"lambda_sol: \", lambda_sol.flatten())\n",
    "print(\"W_sol: \", np.where(W_sol == True)[0] + 1)"
   ]
  },
  {
   "cell_type": "markdown",
   "metadata": {},
   "source": [
    "### x0 = (2, 0) and W0 = {3}"
   ]
  },
  {
   "cell_type": "code",
   "execution_count": 39,
   "metadata": {},
   "outputs": [
    {
     "name": "stdout",
     "output_type": "stream",
     "text": [
      "  iter                        f        Wk        alpha\n",
      "     0                      0.0       [3]            0\n",
      "     1     -0.049999999999998934       [3]            1\n",
      "     2     -0.049999999999998934        []            1\n",
      "     3       -6.449999999999998        []         0.6666666666666665\n",
      "     4       -6.449999999999999       [1]         4.440892098500624e-16\n",
      "Optimal solution found\n",
      "x_sol:  [1.4 1.7]\n",
      "lambda_sol:  [0.8]\n",
      "W_sol:  [1]\n"
     ]
    }
   ],
   "source": [
    "x0 = np.array([[2], [0]])\n",
    "W0 = np.array([False, False, True, False, False]) # empty\n",
    "x_sol, lambda_sol, W_sol, status = solver.active_set_solve(G, c, A, b, x0, W0)\n",
    "print(\"x_sol: \", x_sol.flatten())\n",
    "print(\"lambda_sol: \", lambda_sol.flatten())\n",
    "print(\"W_sol: \", np.where(W_sol == True)[0] + 1)"
   ]
  },
  {
   "cell_type": "markdown",
   "metadata": {},
   "source": [
    "### x0 = (2, 0) and W0 = {5}"
   ]
  },
  {
   "cell_type": "code",
   "execution_count": 40,
   "metadata": {},
   "outputs": [
    {
     "name": "stdout",
     "output_type": "stream",
     "text": [
      "  iter                        f        Wk        alpha\n",
      "     0                      0.0       [5]            0\n",
      "     1                     -1.0       [5]            1\n",
      "     2                     -1.0        []            1\n",
      "     3                    -6.25       [1]          0.6\n",
      "     4       -6.450000000000001       [1]            1\n",
      "Optimal solution found\n",
      "x_sol:  [1.4 1.7]\n",
      "lambda_sol:  [0.8]\n",
      "W_sol:  [1]\n"
     ]
    }
   ],
   "source": [
    "x0 = np.array([[2], [0]])\n",
    "W0 = np.array([False, False, False, False, True]) # empty\n",
    "x_sol, lambda_sol, W_sol, status = solver.active_set_solve(G, c, A, b, x0, W0)\n",
    "print(\"x_sol: \", x_sol.flatten())\n",
    "print(\"lambda_sol: \", lambda_sol.flatten())\n",
    "print(\"W_sol: \", np.where(W_sol == True)[0] + 1)"
   ]
  },
  {
   "cell_type": "markdown",
   "metadata": {},
   "source": [
    "## Problem 16.17"
   ]
  },
  {
   "cell_type": "code",
   "execution_count": 41,
   "metadata": {},
   "outputs": [],
   "source": [
    "# min  q(x) = x1^2 + x2^2 - 6*x1 - 4*x2\n",
    "# s.t. -x1 - x2 >= -3\n",
    "#      x1 >= 0\n",
    "#      x2 >= 0\n",
    "solver_options = solverOptions()\n",
    "solver = Solver(solver_options)\n",
    "G = np.array([[2, 0], [0, 2]])\n",
    "c = np.array([[-6], [-4]])\n",
    "A = np.array([[-1, -1], [1, 0], [0, 1]])\n",
    "b = np.array([[-3], [0], [0]])"
   ]
  },
  {
   "cell_type": "markdown",
   "metadata": {},
   "source": [
    "### x0 = (0, 0) and W0 = ∅"
   ]
  },
  {
   "cell_type": "code",
   "execution_count": 42,
   "metadata": {},
   "outputs": [
    {
     "name": "stdout",
     "output_type": "stream",
     "text": [
      "  iter                        f        Wk        alpha\n",
      "     0                      0.0        []            0\n",
      "     1      -10.919999999999998       [1]          0.6\n",
      "     2                    -11.0       [1]            1\n",
      "Optimal solution found\n",
      "x_sol:  [2. 1.]\n",
      "lambda_sol:  [2.]\n"
     ]
    }
   ],
   "source": [
    "x0 = np.array([[0], [0]])\n",
    "W0 = np.array([False, False, False]) # empty\n",
    "\n",
    "x_sol, lambda_sol, W_sol, status = solver.active_set_solve(G, c, A, b, x0, W0)\n",
    "print(\"x_sol: \", x_sol.flatten())\n",
    "print(\"lambda_sol: \", lambda_sol.flatten())"
   ]
  },
  {
   "cell_type": "markdown",
   "metadata": {},
   "source": [
    "### x0 = (0, 0) and W0 = {2, 3}"
   ]
  },
  {
   "cell_type": "code",
   "execution_count": 43,
   "metadata": {},
   "outputs": [
    {
     "name": "stdout",
     "output_type": "stream",
     "text": [
      "  iter                        f        Wk        alpha\n",
      "     0                      0.0     [2 3]            0\n",
      "     1                      0.0       [3]            0\n",
      "     2                     -9.0     [1 3]            1\n",
      "     3                     -9.0       [1]            1\n",
      "     4                    -11.0       [1]            1\n",
      "Optimal solution found\n",
      "x_sol:  [2. 1.]\n",
      "lambda_sol:  [2.]\n"
     ]
    }
   ],
   "source": [
    "x0 = np.array([[0], [0]])\n",
    "W0 = np.array([False, True, True]) # 2, 3\n",
    "\n",
    "x_sol, lambda_sol, W_sol, status = solver.active_set_solve(G, c, A, b, x0, W0)\n",
    "print(\"x_sol: \", x_sol.flatten())\n",
    "print(\"lambda_sol: \", lambda_sol.flatten())"
   ]
  },
  {
   "cell_type": "markdown",
   "metadata": {},
   "source": [
    "### x0 = (1, 1) and W0 = ∅"
   ]
  },
  {
   "cell_type": "code",
   "execution_count": 44,
   "metadata": {},
   "outputs": [
    {
     "name": "stdout",
     "output_type": "stream",
     "text": [
      "  iter                        f        Wk        alpha\n",
      "     0                     -8.0        []            0\n",
      "     1      -10.777777777777777       [1]         0.3333333333333333\n",
      "     2                    -11.0       [1]            1\n",
      "Optimal solution found\n",
      "x_sol:  [2. 1.]\n",
      "lambda_sol:  [2.]\n"
     ]
    }
   ],
   "source": [
    "x0 = np.array([[1], [1]])\n",
    "W0 = np.array([False, False, False]) # empty\n",
    "\n",
    "x_sol, lambda_sol, W_sol, status = solver.active_set_solve(G, c, A, b, x0, W0)\n",
    "print(\"x_sol: \", x_sol.flatten())\n",
    "print(\"lambda_sol: \", lambda_sol.flatten())"
   ]
  },
  {
   "cell_type": "markdown",
   "metadata": {},
   "source": [
    "## Random QPs"
   ]
  },
  {
   "cell_type": "code",
   "execution_count": 45,
   "metadata": {},
   "outputs": [
    {
     "name": "stdout",
     "output_type": "stream",
     "text": [
      "  iter                        f        Wk        alpha\n",
      "     0         8.75830331556778        []            0\n",
      "     1        7.256612560604912       [4]         0.0012069493103990091\n",
      "     2       7.0716360628411135     [4 5]         0.0002914333886287974\n",
      "     3       -117.6145999571613     [4 5]            1\n",
      "Optimal solution found\n"
     ]
    }
   ],
   "source": [
    "np.random.seed(0)\n",
    "n = 10\n",
    "m = 5\n",
    "L = np.random.rand(n,n)\n",
    "G = np.matmul(L,L.T)\n",
    "c = 10*(0.5-np.random.rand(n,1))\n",
    "A = 10*(0.5-np.random.rand(m,n))\n",
    "b = 10*(0.5-np.random.rand(m,1))\n",
    "x_feas = np.random.rand(n,1)\n",
    "b = A @ x_feas - 1\n",
    "\n",
    "x0 = x_feas\n",
    "W0 = np.array([False]*m) # empty\n",
    "\n",
    "x_sol, lambda_sol, W_sol, status = solver.active_set_solve(G, c, A, b, x0, W0)\n",
    "# print(\"x_sol: \", x_sol.flatten())\n",
    "# print(\"lambda_sol: \", lambda_sol.flatten())"
   ]
  }
 ],
 "metadata": {
  "kernelspec": {
   "display_name": "Python 3",
   "language": "python",
   "name": "python3"
  },
  "language_info": {
   "codemirror_mode": {
    "name": "ipython",
    "version": 3
   },
   "file_extension": ".py",
   "mimetype": "text/x-python",
   "name": "python",
   "nbconvert_exporter": "python",
   "pygments_lexer": "ipython3",
   "version": "3.12.0"
  }
 },
 "nbformat": 4,
 "nbformat_minor": 2
}
